{
 "cells": [
  {
   "cell_type": "markdown",
   "metadata": {},
   "source": [
    "## Assignment:\n",
    "\n",
    "Beat the performance of my Lasso regression by **using different feature engineering steps ONLY!!**.\n",
    "\n",
    "The performance of my current model, as shown in this notebook is:\n",
    "\n",
    "- test mse: 1063016789.3316755\n",
    "- test rmse: 32603.938248801718\n",
    "- test r2: 0.8453144708738004\n",
    "\n",
    "To beat my model you will need a test r2 bigger than 0.85 and a rmse smaller than 32603.\n",
    "\n",
    "\n",
    "=====================================================================================================\n",
    "\n",
    "\n",
    "### Conditions:\n",
    "\n",
    "- You MUST NOT change the hyperparameters of the Lasso.\n",
    "- You MUST use the same seeds in Lasso and train_test_split as I show in this notebook (random_state)\n",
    "- You MUST use all the features of the dataset (except Id) - you MUST NOT select features\n",
    "\n",
    "\n",
    "=====================================================================================================\n",
    "\n",
    "\n",
    "### If you beat my model:\n",
    "\n",
    "Make a pull request with your notebook to this github repo:\n",
    "https://github.com/solegalli/udemy-feml-challenge\n",
    "\n",
    "And add your notebook to the folder:\n",
    "\n",
    "-StudentsSolutions_v1.0.0\n",
    "\n",
    "### How to make the PR\n",
    "\n",
    "1) fork the repo:\n",
    "\n",
    "Go to https://github.com/solegalli/udemy-feml-challenge, and click on the **fork** button at the top-right\n",
    "\n",
    "2) clone your forked repo into your local computer:\n",
    "\n",
    "- Go to www.github.com/yourusername/udemy-feml-challenge\n",
    "- Click the green button that says clone or download\n",
    "- copy the url that opens up\n",
    "- power up a git console\n",
    "- type: git clone (paste the url you copied from github)\n",
    "- done\n",
    "\n",
    "3) Make a copy of the jupyter notebook and add your name:\n",
    "\n",
    "- Open up the Jupyter notebook called 13-Assignement.ipynb\n",
    "- Click the \"File\" button at the top-right and then click \"Make a copy\"\n",
    "- **Work your solution in the Copy** and not in the original assignment (otherwise there will be conflicts when making the PR)\n",
    "- Change the name of the copy of the notebook to: 13-Assignement_yourname.ipynb\n",
    "- Move the notebook to the folder **StudentsSolutions_v1.0.0**\n",
    "- done\n",
    "\n",
    "When you finish, just commit the new notebook to your fork and then make a PR to my repo.\n",
    "\n",
    "- git add StudentsSolutions_v1.0.0/13-Assignement_yourname.ipynb\n",
    "- git commit -m \"your commit message\"\n",
    "- git push origin master or git push origin yourfeaturebranch\n",
    "- go to your repo and make a pull request.\n",
    "\n",
    "\n",
    "## But i have a notebook ready and I haven't cloned the repo yet, how can I make the PR?\n",
    "\n",
    "If you worked in the copy you downloaded from Udemy before forking and cloning this repo, then follow this steps:\n",
    "\n",
    "1) fork the repo:\n",
    "\n",
    "Go to https://github.com/solegalli/udemy-feml-challenge, and click on the fork button at the top-right\n",
    "\n",
    "2) clone your forked repo into your local computer:\n",
    "\n",
    "Go to www.github.com/yourusername/udemy-feml-challenge\n",
    "\n",
    "- Click the green button that says clone or download\n",
    "- Copy the url that opens up\n",
    "- Power up a git console\n",
    "- Type: git clone (paste the url you copied from github)\n",
    "- Done\n",
    "\n",
    "3) Rename your solution as follows and copy it into your cloned repo:\n",
    "\n",
    "- Rename your solution notebook to: 13-Assignement_yourname.ipynb\n",
    "- Copy this file into the cloned repo, inside the folder **StudentsSolutions_v1.0.0**\n",
    "- Done\n",
    "\n",
    "When you finish, just commit the new notebook to your fork and then make a PR to my repo\n",
    "\n",
    "- git add StudentsSolutions_v1.0.0/13-Assignement_yourname.ipynb\n",
    "- git commit -m \"your commit message\"\n",
    "- git push origin master or git push origin yourfeaturebranch\n",
    "- go to your repo and make a pull request.\n",
    "\n",
    "**Good luck!!**"
   ]
  },
  {
   "cell_type": "markdown",
   "metadata": {},
   "source": [
    "## House Prices dataset"
   ]
  },
  {
   "cell_type": "code",
   "execution_count": 89,
   "metadata": {},
   "outputs": [],
   "source": [
    "import pandas as pd\n",
    "import numpy as np\n",
    "import matplotlib.pyplot as plt\n",
    "\n",
    "# for the model\n",
    "from sklearn.model_selection import train_test_split\n",
    "from sklearn.linear_model import Lasso\n",
    "from sklearn.pipeline import Pipeline\n",
    "from sklearn.metrics import mean_squared_error, r2_score\n",
    "\n",
    "# for feature engineering\n",
    "from sklearn.preprocessing import StandardScaler, MinMaxScaler\n",
    "from feature_engine import imputation as mdi\n",
    "from feature_engine import discretisation as dsc\n",
    "from feature_engine import encoding as ce"
   ]
  },
  {
   "cell_type": "code",
   "execution_count": 7,
   "metadata": {},
   "outputs": [],
   "source": [
    "# load dataset \n",
    "\n",
    "data = pd.read_csv(r'F:\\Docs\\Feature Engineering\\houseprice.csv')"
   ]
  },
  {
   "cell_type": "code",
   "execution_count": 8,
   "metadata": {},
   "outputs": [
    {
     "name": "stdout",
     "output_type": "stream",
     "text": [
      "There are 18 continuous variables\n",
      "There are 14 discrete variables\n",
      "There are 4 temporal variables\n",
      "There are 43 categorical variables\n"
     ]
    }
   ],
   "source": [
    "# make lists of variable types\n",
    "\n",
    "categorical = [var for var in data.columns if data[var].dtype == 'O']\n",
    "\n",
    "year_vars = [var for var in data.columns if 'Yr' in var or 'Year' in var]\n",
    "\n",
    "discrete = [\n",
    "    var for var in data.columns if data[var].dtype != 'O'\n",
    "    and len(data[var].unique()) < 20 and var not in year_vars\n",
    "]\n",
    "\n",
    "numerical = [\n",
    "    var for var in data.columns if data[var].dtype != 'O'\n",
    "    if var not in discrete and var not in ['Id', 'SalePrice']\n",
    "    and var not in year_vars\n",
    "]\n",
    "\n",
    "print('There are {} continuous variables'.format(len(numerical)))\n",
    "print('There are {} discrete variables'.format(len(discrete)))\n",
    "print('There are {} temporal variables'.format(len(year_vars)))\n",
    "print('There are {} categorical variables'.format(len(categorical)))"
   ]
  },
  {
   "cell_type": "markdown",
   "metadata": {},
   "source": [
    "### Separate train and test set"
   ]
  },
  {
   "cell_type": "code",
   "execution_count": 94,
   "metadata": {},
   "outputs": [],
   "source": [
    "# IMPORTANT: keep the random_state to zero for reproducibility\n",
    "# Let's separate into train and test set\n",
    "\n",
    "X_train, X_test, y_train, y_test = train_test_split(data.drop(\n",
    "    ['Id', 'SalePrice'], axis=1),\n",
    "    data['SalePrice'],\n",
    "    test_size=0.1,\n",
    "    random_state=0)"
   ]
  },
  {
   "cell_type": "code",
   "execution_count": 95,
   "metadata": {},
   "outputs": [],
   "source": [
    "# calculate elapsed time\n",
    "\n",
    "def elapsed_years(df, var):\n",
    "    # capture difference between year variable and\n",
    "    # year the house was sold\n",
    "    \n",
    "    df[var] = df['YrSold'] - df[var]\n",
    "    return df\n",
    "\n",
    "for var in ['YearBuilt', 'YearRemodAdd', 'GarageYrBlt']:\n",
    "    X_train = elapsed_years(X_train, var)\n",
    "    X_test = elapsed_years(X_test, var)"
   ]
  },
  {
   "cell_type": "code",
   "execution_count": 96,
   "metadata": {},
   "outputs": [],
   "source": [
    "# drop YrSold\n",
    "X_train.drop('YrSold', axis=1, inplace=True)\n",
    "X_test.drop('YrSold', axis=1, inplace=True)"
   ]
  },
  {
   "cell_type": "code",
   "execution_count": 97,
   "metadata": {},
   "outputs": [],
   "source": [
    "# capture the column names for use later in the notebook\n",
    "final_columns = X_train.columns"
   ]
  },
  {
   "cell_type": "markdown",
   "metadata": {},
   "source": [
    "## Feature Engineering Pipeline"
   ]
  },
  {
   "cell_type": "code",
   "execution_count": 98,
   "metadata": {},
   "outputs": [],
   "source": [
    "# I will treat discrete variables as if they were categorical\n",
    "# to treat discrete as categorical using Feature-engine\n",
    "# we need to re-cast them as object\n",
    "\n",
    "X_train[discrete] = X_train[discrete].astype('O')\n",
    "X_test[discrete] = X_test[discrete].astype('O')"
   ]
  },
  {
   "cell_type": "code",
   "execution_count": 99,
   "metadata": {},
   "outputs": [
    {
     "name": "stdout",
     "output_type": "stream",
     "text": [
      "MSSubClass          0\n",
      "MSZoning            0\n",
      "LotFrontage       233\n",
      "LotArea             0\n",
      "Street              0\n",
      "Alley            1233\n",
      "LotShape            0\n",
      "LandContour         0\n",
      "Utilities           0\n",
      "LotConfig           0\n",
      "LandSlope           0\n",
      "Neighborhood        0\n",
      "Condition1          0\n",
      "Condition2          0\n",
      "BldgType            0\n",
      "HouseStyle          0\n",
      "OverallQual         0\n",
      "OverallCond         0\n",
      "YearBuilt           0\n",
      "YearRemodAdd        0\n",
      "RoofStyle           0\n",
      "RoofMatl            0\n",
      "Exterior1st         0\n",
      "Exterior2nd         0\n",
      "MasVnrType          6\n",
      "MasVnrArea          6\n",
      "ExterQual           0\n",
      "ExterCond           0\n",
      "Foundation          0\n",
      "BsmtQual           32\n",
      "BsmtCond           32\n",
      "BsmtExposure       33\n",
      "BsmtFinType1       32\n",
      "BsmtFinSF1          0\n",
      "BsmtFinType2       33\n",
      "BsmtFinSF2          0\n",
      "BsmtUnfSF           0\n",
      "TotalBsmtSF         0\n",
      "Heating             0\n",
      "HeatingQC           0\n",
      "CentralAir          0\n",
      "Electrical          1\n",
      "1stFlrSF            0\n",
      "2ndFlrSF            0\n",
      "LowQualFinSF        0\n",
      "GrLivArea           0\n",
      "BsmtFullBath        0\n",
      "BsmtHalfBath        0\n",
      "FullBath            0\n",
      "HalfBath            0\n",
      "BedroomAbvGr        0\n",
      "KitchenAbvGr        0\n",
      "KitchenQual         0\n",
      "TotRmsAbvGrd        0\n",
      "Functional          0\n",
      "Fireplaces          0\n",
      "FireplaceQu       621\n",
      "GarageType         74\n",
      "GarageYrBlt        74\n",
      "GarageFinish       74\n",
      "GarageCars          0\n",
      "GarageArea          0\n",
      "GarageQual         74\n",
      "GarageCond         74\n",
      "PavedDrive          0\n",
      "WoodDeckSF          0\n",
      "OpenPorchSF         0\n",
      "EnclosedPorch       0\n",
      "3SsnPorch           0\n",
      "ScreenPorch         0\n",
      "PoolArea            0\n",
      "PoolQC           1308\n",
      "Fence            1070\n",
      "MiscFeature      1263\n",
      "MiscVal             0\n",
      "MoSold              0\n",
      "SaleType            0\n",
      "SaleCondition       0\n"
     ]
    }
   ],
   "source": [
    "print(X_train.isnull().sum().to_string())"
   ]
  },
  {
   "cell_type": "code",
   "execution_count": 100,
   "metadata": {},
   "outputs": [
    {
     "name": "stdout",
     "output_type": "stream",
     "text": [
      "Index(['MSSubClass', 'MSZoning', 'LotFrontage', 'LotArea', 'Street', 'Alley',\n",
      "       'LotShape', 'LandContour', 'Utilities', 'LotConfig', 'LandSlope',\n",
      "       'Neighborhood', 'Condition1', 'Condition2', 'BldgType', 'HouseStyle',\n",
      "       'OverallQual', 'OverallCond', 'YearBuilt', 'YearRemodAdd', 'RoofStyle',\n",
      "       'RoofMatl', 'Exterior1st', 'Exterior2nd', 'MasVnrType', 'MasVnrArea',\n",
      "       'ExterQual', 'ExterCond', 'Foundation', 'BsmtQual', 'BsmtCond',\n",
      "       'BsmtExposure', 'BsmtFinType1', 'BsmtFinSF1', 'BsmtFinType2',\n",
      "       'BsmtFinSF2', 'BsmtUnfSF', 'TotalBsmtSF', 'Heating', 'HeatingQC',\n",
      "       'CentralAir', 'Electrical', '1stFlrSF', '2ndFlrSF', 'LowQualFinSF',\n",
      "       'GrLivArea', 'BsmtFullBath', 'BsmtHalfBath', 'FullBath', 'HalfBath',\n",
      "       'BedroomAbvGr', 'KitchenAbvGr', 'KitchenQual', 'TotRmsAbvGrd',\n",
      "       'Functional', 'Fireplaces', 'FireplaceQu', 'GarageType', 'GarageYrBlt',\n",
      "       'GarageFinish', 'GarageCars', 'GarageArea', 'GarageQual', 'GarageCond',\n",
      "       'PavedDrive', 'WoodDeckSF', 'OpenPorchSF', 'EnclosedPorch', '3SsnPorch',\n",
      "       'ScreenPorch', 'PoolArea', 'PoolQC', 'Fence', 'MiscFeature', 'MiscVal',\n",
      "       'MoSold', 'SaleType', 'SaleCondition'],\n",
      "      dtype='object')\n",
      "['MSZoning', 'Street', 'Alley', 'LotShape', 'LandContour', 'Utilities', 'LotConfig', 'LandSlope', 'Neighborhood', 'Condition1', 'Condition2', 'BldgType', 'HouseStyle', 'RoofStyle', 'RoofMatl', 'Exterior1st', 'Exterior2nd', 'MasVnrType', 'ExterQual', 'ExterCond', 'Foundation', 'BsmtQual', 'BsmtCond', 'BsmtExposure', 'BsmtFinType1', 'BsmtFinType2', 'Heating', 'HeatingQC', 'CentralAir', 'Electrical', 'KitchenQual', 'Functional', 'FireplaceQu', 'GarageType', 'GarageFinish', 'GarageQual', 'GarageCond', 'PavedDrive', 'PoolQC', 'Fence', 'MiscFeature', 'SaleType', 'SaleCondition']\n"
     ]
    }
   ],
   "source": [
    "print(X_train.columns)\n",
    "print(categorical)"
   ]
  },
  {
   "cell_type": "code",
   "execution_count": 101,
   "metadata": {},
   "outputs": [],
   "source": [
    "house_pipe = Pipeline([\n",
    "\n",
    "    # missing data imputation - section 4\n",
    "    ('missing_ind',\n",
    "     mdi.AddMissingIndicator(\n",
    "         variables=['LotFrontage', 'MasVnrArea', 'GarageYrBlt'])),\n",
    "\n",
    "    ('imputer_num',\n",
    "     mdi.MeanMedianImputer(\n",
    "         imputation_method='mean',\n",
    "         variables=['LotFrontage', 'MasVnrArea', 'GarageYrBlt'])),\n",
    "\n",
    "    ('imputer_cat', mdi.CategoricalImputer(variables=categorical)),\n",
    "\n",
    "\n",
    "    # categorical encoding - section 6\n",
    "    ('rare_label_enc',\n",
    "     ce.RareLabelEncoder(tol=0.0083, n_categories=1, variables=categorical + discrete)),\n",
    "\n",
    "    # newly available categorical encoder, uses trees predictions\n",
    "    ('categorical_enc',\n",
    "     ce.DecisionTreeEncoder(random_state=2909, variables=categorical + discrete)),\n",
    "\n",
    "    # discretisation - section 8\n",
    "    ('discretisation',\n",
    "     dsc.DecisionTreeDiscretiser(random_state=2909, variables=numerical)),\n",
    "\n",
    "    # feature Scaling - section 10\n",
    "    ('scaler', MinMaxScaler()),\n",
    "\n",
    "    # regression\n",
    "    ('lasso', Lasso(random_state=0))\n",
    "])"
   ]
  },
  {
   "cell_type": "code",
   "execution_count": 102,
   "metadata": {},
   "outputs": [],
   "source": [
    "# let's fit the pipeline\n",
    "house_pipe.fit(X_train, y_train)\n",
    "\n",
    "# let's get the predictions\n",
    "X_train_preds = house_pipe.predict(X_train)\n",
    "X_test_preds = house_pipe.predict(X_test)"
   ]
  },
  {
   "cell_type": "code",
   "execution_count": 103,
   "metadata": {},
   "outputs": [
    {
     "name": "stdout",
     "output_type": "stream",
     "text": [
      "train mse: 589756234.1587994\n",
      "train rmse: 24284.89724414743\n",
      "train r2: 0.9055457856943276\n",
      "\n",
      "test mse: 913043736.8248594\n",
      "test rmse: 30216.613589627468\n",
      "test r2: 0.8671378900469568\n"
     ]
    }
   ],
   "source": [
    "# check model performance:\n",
    "\n",
    "print('train mse: {}'.format(mean_squared_error(y_train, X_train_preds, squared=True)))\n",
    "print('train rmse: {}'.format(mean_squared_error(y_train, X_train_preds, squared=False)))\n",
    "print('train r2: {}'.format(r2_score(y_train, X_train_preds)))\n",
    "print()\n",
    "print('test mse: {}'.format(mean_squared_error(y_test, X_test_preds,squared=True)))\n",
    "print('test rmse: {}'.format(mean_squared_error(y_test, X_test_preds, squared=False)))\n",
    "print('test r2: {}'.format(r2_score(y_test, X_test_preds)))\n",
    "# test mse: 913043736.8248594\n",
    "# test rmse: 30216.613589627468\n",
    "# test r2: 0.8671378900469568"
   ]
  },
  {
   "cell_type": "code",
   "execution_count": 104,
   "metadata": {},
   "outputs": [
    {
     "data": {
      "text/plain": [
       "Text(0, 0.5, 'Predicted Price')"
      ]
     },
     "execution_count": 104,
     "metadata": {},
     "output_type": "execute_result"
    },
    {
     "data": {
      "image/png": "[encoded data removed]",
      "text/plain": [
       "<Figure size 432x288 with 1 Axes>"
      ]
     },
     "metadata": {
      "needs_background": "light"
     },
     "output_type": "display_data"
    }
   ],
   "source": [
    "# plot predictions vs real value\n",
    "\n",
    "plt.scatter(y_test,X_test_preds)\n",
    "plt.xlabel('True Price')\n",
    "plt.ylabel('Predicted Price')"
   ]
  },
  {
   "cell_type": "code",
   "execution_count": 105,
   "metadata": {},
   "outputs": [
    {
     "data": {
      "text/plain": [
       "<matplotlib.axes._subplots.AxesSubplot at 0x1821e368f48>"
      ]
     },
     "execution_count": 105,
     "metadata": {},
     "output_type": "execute_result"
    },
    {
     "data": {
      "image/png": "[encoded data removed]",
      "text/plain": [
       "<Figure size 1296x432 with 1 Axes>"
      ]
     },
     "metadata": {
      "needs_background": "light"
     },
     "output_type": "display_data"
    }
   ],
   "source": [
    "# let's explore the importance of the features\n",
    "# the importance is given by the absolute value of the coefficient\n",
    "# assigned by the Lasso\n",
    "\n",
    "importance = pd.Series(np.abs(house_pipe.named_steps['lasso'].coef_))\n",
    "importance.index = list(final_columns)+['LotFrontage_na', 'MasVnrArea_na',  'GarageYrBlt_na']\n",
    "importance.sort_values(inplace=True, ascending=False)\n",
    "importance.plot.bar(figsize=(18,6))"
   ]
  },
  {
   "cell_type": "code",
   "execution_count": null,
   "metadata": {},
   "outputs": [],
   "source": []
  }
 ],
 "metadata": {
  "interpreter": {
   "hash": "41334c4a2cbed938f90724780d3c1ce40b8934e87961baa8102a9beca2bdb11b"
  },
  "kernelspec": {
   "display_name": "Python 3",
   "language": "python",
   "name": "python3"
  },
  "language_info": {
   "codemirror_mode": {
    "name": "ipython",
    "version": 3
   },
   "file_extension": ".py",
   "mimetype": "text/x-python",
   "name": "python",
   "nbconvert_exporter": "python",
   "pygments_lexer": "ipython3",
   "version": "3.7.4"
  },
  "toc": {
   "base_numbering": 1,
   "nav_menu": {},
   "number_sections": true,
   "sideBar": true,
   "skip_h1_title": false,
   "title_cell": "Table of Contents",
   "title_sidebar": "Contents",
   "toc_cell": false,
   "toc_position": {
    "height": "583px",
    "left": "0px",
    "right": "1324px",
    "top": "107px",
    "width": "212px"
   },
   "toc_section_display": "block",
   "toc_window_display": true
  }
 },
 "nbformat": 4,
 "nbformat_minor": 2
}
